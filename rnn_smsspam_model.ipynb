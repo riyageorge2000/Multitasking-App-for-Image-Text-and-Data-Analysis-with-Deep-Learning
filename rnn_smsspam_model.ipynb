{
 "cells": [
  {
   "cell_type": "markdown",
   "metadata": {},
   "source": [
    "### SMS SPAM DETECTION USING RNN"
   ]
  },
  {
   "cell_type": "code",
   "execution_count": 1,
   "metadata": {},
   "outputs": [],
   "source": [
    "import pandas as pd\n",
    "import matplotlib.pyplot as plt\n",
    "import seaborn as sns\n",
    "from sklearn.model_selection import train_test_split\n",
    "import tensorflow as tf\n",
    "from sklearn.metrics import classification_report, confusion_matrix, accuracy_score\n",
    "import pickle"
   ]
  },
  {
   "cell_type": "code",
   "execution_count": 2,
   "metadata": {},
   "outputs": [],
   "source": [
    "# Downloading Dataset\n",
    "dataset = pd.read_csv(r'SMSSpamCollection.txt', sep='\\t', names=['label', 'message'])"
   ]
  },
  {
   "cell_type": "code",
   "execution_count": 3,
   "metadata": {},
   "outputs": [
    {
     "name": "stdout",
     "output_type": "stream",
     "text": [
      "  label                                            message\n",
      "0   ham  Go until jurong point, crazy.. Available only ...\n",
      "1   ham                      Ok lar... Joking wif u oni...\n",
      "2  spam  Free entry in 2 a wkly comp to win FA Cup fina...\n",
      "3   ham  U dun say so early hor... U c already then say...\n",
      "4   ham  Nah I don't think he goes to usf, he lives aro...\n",
      "----------------------  -------------------------\n",
      "      message                                                               \n",
      "        count unique                                                top freq\n",
      "label                                                                       \n",
      "ham      4825   4516                             Sorry, I'll call later   30\n",
      "spam      747    653  Please call our customer service representativ...    4\n"
     ]
    }
   ],
   "source": [
    "print(dataset.head())\n",
    "print(\"----------------------  -------------------------\")\n",
    "print(dataset.groupby('label').describe())"
   ]
  },
  {
   "cell_type": "code",
   "execution_count": 4,
   "metadata": {},
   "outputs": [],
   "source": [
    "# Preprocessing\n",
    "dataset['label'] = dataset['label'].map({'spam': 1, 'ham': 0})\n",
    "X = dataset['message'].values\n",
    "y = dataset['label'].values"
   ]
  },
  {
   "cell_type": "code",
   "execution_count": 5,
   "metadata": {},
   "outputs": [
    {
     "name": "stdout",
     "output_type": "stream",
     "text": [
      "[[387, 245, 325, 450, 917, 432, 1, 1323, 169, 2377], [19, 4, 1021, 112, 93, 6, 40, 358]]\n"
     ]
    }
   ],
   "source": [
    "# Train Test Split\n",
    "X_train, X_test, y_train, y_test = train_test_split(X, y, test_size=0.3, random_state=42)\n",
    "\n",
    "tokeniser = tf.keras.preprocessing.text.Tokenizer()\n",
    "tokeniser.fit_on_texts(X_train)\n",
    "\n",
    "# Save the tokenizer using pickle\n",
    "with open('tokenizer.pickle', 'wb') as handle:\n",
    "    pickle.dump(tokeniser, handle, protocol=pickle.HIGHEST_PROTOCOL)\n",
    "\n",
    "encoded_train = tokeniser.texts_to_sequences(X_train)\n",
    "encoded_test = tokeniser.texts_to_sequences(X_test)\n",
    "print(encoded_train[0:2])"
   ]
  },
  {
   "cell_type": "code",
   "execution_count": 6,
   "metadata": {},
   "outputs": [
    {
     "name": "stdout",
     "output_type": "stream",
     "text": [
      "[[  14   61  388  540 3557   23 3558    0    0    0    0    0    0    0\n",
      "     0    0    0    0    0    0]\n",
      " [ 474   59   35   10   61   22   63   75   76    0    0    0    0    0\n",
      "     0    0    0    0    0    0]\n",
      " [  36  727  180   26 3559 2396  452   41    9 1850    0    0    0    0\n",
      "     0    0    0    0    0    0]\n",
      " [ 518 2397  158   73  243   10   48   92    0    0    0    0    0    0\n",
      "     0    0    0    0    0    0]]\n"
     ]
    }
   ],
   "source": [
    "# Padding\n",
    "max_length = 20\n",
    "padded_train = tf.keras.preprocessing.sequence.pad_sequences(encoded_train, maxlen=max_length, padding='post')\n",
    "padded_test = tf.keras.preprocessing.sequence.pad_sequences(encoded_test, maxlen=max_length, padding='post')\n",
    "print(padded_train[30:34])"
   ]
  },
  {
   "cell_type": "code",
   "execution_count": 7,
   "metadata": {},
   "outputs": [],
   "source": [
    "vocab_size = len(tokeniser.word_index) + 1"
   ]
  },
  {
   "cell_type": "code",
   "execution_count": 8,
   "metadata": {},
   "outputs": [],
   "source": [
    "# Model definition\n",
    "model=tf.keras.models.Sequential([\n",
    "   tf.keras.layers.Embedding(input_dim=vocab_size,output_dim= 24, input_length=max_length),\n",
    "   tf.keras.layers.SimpleRNN(24, return_sequences=False),\n",
    "   tf.keras.layers.Dense(64, activation='relu'),\n",
    "   tf.keras.layers.Dense(32, activation='relu'),\n",
    "   tf.keras.layers.Dense(1, activation='sigmoid')\n",
    "])"
   ]
  },
  {
   "cell_type": "code",
   "execution_count": 9,
   "metadata": {},
   "outputs": [
    {
     "name": "stdout",
     "output_type": "stream",
     "text": [
      "Model: \"sequential\"\n",
      "_________________________________________________________________\n",
      " Layer (type)                Output Shape              Param #   \n",
      "=================================================================\n",
      " embedding (Embedding)       (None, 20, 24)            180048    \n",
      "                                                                 \n",
      " simple_rnn (SimpleRNN)      (None, 24)                1176      \n",
      "                                                                 \n",
      " dense (Dense)               (None, 64)                1600      \n",
      "                                                                 \n",
      " dense_1 (Dense)             (None, 32)                2080      \n",
      "                                                                 \n",
      " dense_2 (Dense)             (None, 1)                 33        \n",
      "                                                                 \n",
      "=================================================================\n",
      "Total params: 184937 (722.41 KB)\n",
      "Trainable params: 184937 (722.41 KB)\n",
      "Non-trainable params: 0 (0.00 Byte)\n",
      "_________________________________________________________________\n",
      "None\n"
     ]
    }
   ],
   "source": [
    "# compile the model\n",
    "model.compile(optimizer='adam', loss='binary_crossentropy', metrics=['accuracy'])\n",
    "\n",
    "# summarize the model\n",
    "print(model.summary())\n",
    "\n",
    "# Early stopping callback\n",
    "early_stop = tf.keras.callbacks.EarlyStopping(monitor='accuracy', mode='min', patience=10)"
   ]
  },
  {
   "cell_type": "code",
   "execution_count": 10,
   "metadata": {},
   "outputs": [
    {
     "name": "stdout",
     "output_type": "stream",
     "text": [
      "Epoch 1/50\n",
      "122/122 [==============================] - 2s 7ms/step - loss: 0.2136 - accuracy: 0.9249 - val_loss: 0.0720 - val_accuracy: 0.9791\n",
      "Epoch 2/50\n",
      "122/122 [==============================] - 1s 5ms/step - loss: 0.0435 - accuracy: 0.9879 - val_loss: 0.0476 - val_accuracy: 0.9868\n",
      "Epoch 3/50\n",
      "122/122 [==============================] - 1s 5ms/step - loss: 0.0111 - accuracy: 0.9974 - val_loss: 0.0479 - val_accuracy: 0.9868\n",
      "Epoch 4/50\n",
      "122/122 [==============================] - 1s 5ms/step - loss: 0.0047 - accuracy: 0.9992 - val_loss: 0.0667 - val_accuracy: 0.9833\n",
      "Epoch 5/50\n",
      "122/122 [==============================] - 1s 5ms/step - loss: 0.0074 - accuracy: 0.9982 - val_loss: 0.0659 - val_accuracy: 0.9850\n",
      "Epoch 6/50\n",
      "122/122 [==============================] - 1s 5ms/step - loss: 0.0049 - accuracy: 0.9992 - val_loss: 0.0501 - val_accuracy: 0.9839\n",
      "Epoch 7/50\n",
      "122/122 [==============================] - 1s 5ms/step - loss: 5.1659e-04 - accuracy: 1.0000 - val_loss: 0.0818 - val_accuracy: 0.9797\n",
      "Epoch 8/50\n",
      "122/122 [==============================] - 1s 5ms/step - loss: 8.2996e-05 - accuracy: 1.0000 - val_loss: 0.0916 - val_accuracy: 0.9797\n",
      "Epoch 9/50\n",
      "122/122 [==============================] - 1s 5ms/step - loss: 5.1284e-05 - accuracy: 1.0000 - val_loss: 0.0984 - val_accuracy: 0.9797\n",
      "Epoch 10/50\n",
      "122/122 [==============================] - 1s 4ms/step - loss: 3.6400e-05 - accuracy: 1.0000 - val_loss: 0.1036 - val_accuracy: 0.9791\n",
      "Epoch 11/50\n",
      "122/122 [==============================] - 1s 4ms/step - loss: 2.7731e-05 - accuracy: 1.0000 - val_loss: 0.1071 - val_accuracy: 0.9791\n"
     ]
    },
    {
     "data": {
      "text/plain": [
       "<keras.src.callbacks.History at 0x274d6186410>"
      ]
     },
     "execution_count": 10,
     "metadata": {},
     "output_type": "execute_result"
    }
   ],
   "source": [
    "# Model training\n",
    "model.fit(x=padded_train,\n",
    "         y=y_train,\n",
    "         epochs=50,\n",
    "         validation_data=(padded_test, y_test),\n",
    "         callbacks=[early_stop]\n",
    "         )"
   ]
  },
  {
   "cell_type": "code",
   "execution_count": 11,
   "metadata": {},
   "outputs": [
    {
     "name": "stdout",
     "output_type": "stream",
     "text": [
      "53/53 [==============================] - 0s 1ms/step\n"
     ]
    }
   ],
   "source": [
    "# Generate predictions after model training\n",
    "preds = (model.predict(padded_test) > 0.5).astype(\"int32\")"
   ]
  },
  {
   "cell_type": "code",
   "execution_count": 12,
   "metadata": {},
   "outputs": [
    {
     "name": "stdout",
     "output_type": "stream",
     "text": [
      "Classification Report\n",
      "              precision    recall  f1-score   support\n",
      "\n",
      "           0       0.98      0.99      0.99      1448\n",
      "           1       0.95      0.89      0.92       224\n",
      "\n",
      "    accuracy                           0.98      1672\n",
      "   macro avg       0.97      0.94      0.95      1672\n",
      "weighted avg       0.98      0.98      0.98      1672\n",
      "\n",
      "Accuracy : 97.91\n"
     ]
    }
   ],
   "source": [
    "# Classification report\n",
    "print(\"Classification Report\")\n",
    "print(classification_report(y_test, preds))\n",
    "\n",
    "# Accuracy score\n",
    "acc_sc = accuracy_score(y_test, preds)\n",
    "print(f\"Accuracy : {round(acc_sc * 100, 2)}\")"
   ]
  },
  {
   "cell_type": "code",
   "execution_count": 13,
   "metadata": {},
   "outputs": [
    {
     "data": {
      "image/png": "[encoded data removed]",
      "text/plain": [
       "<Figure size 640x480 with 1 Axes>"
      ]
     },
     "metadata": {},
     "output_type": "display_data"
    }
   ],
   "source": [
    "# Confusion matrix plotting\n",
    "mtx = confusion_matrix(y_test, preds)\n",
    "sns.heatmap(mtx, annot=True, fmt='d', linewidths=.5, cmap=\"Blues\", cbar=False)\n",
    "plt.ylabel('True label')\n",
    "plt.xlabel('Predicted label')\n",
    "plt.show()  # Display the plot"
   ]
  },
  {
   "cell_type": "code",
   "execution_count": 14,
   "metadata": {},
   "outputs": [
    {
     "name": "stderr",
     "output_type": "stream",
     "text": [
      "d:\\STUDY\\Sem3\\deeplearning\\DLENV\\lib\\site-packages\\keras\\src\\engine\\training.py:3079: UserWarning: You are saving your model as an HDF5 file via `model.save()`. This file format is considered legacy. We recommend using instead the native Keras format, e.g. `model.save('my_model.keras')`.\n",
      "  saving_api.save_model(\n"
     ]
    }
   ],
   "source": [
    "# Save the trained model\n",
    "model.save(\"spammodel.h5\")\n",
    "spam_model = tf.keras.models.load_model('spammodel.h5')"
   ]
  },
  {
   "cell_type": "code",
   "execution_count": 16,
   "metadata": {},
   "outputs": [],
   "source": [
    "def predict_message(input_text):\n",
    "    # Process input text similarly to training data\n",
    "    encoded_input = tokeniser.texts_to_sequences([input_text])\n",
    "    padded_input = tf.keras.preprocessing.sequence.pad_sequences(encoded_input, maxlen=max_length, padding='post')\n",
    "    \n",
    "    # Get the probabilities of being classified as \"Spam\" for each input\n",
    "    predictions = spam_model.predict(padded_input)\n",
    "    \n",
    "    # Define a threshold (e.g., 0.5) for classification\n",
    "    threshold = 0.5\n",
    "\n",
    "    # Make the predictions based on the threshold for each input\n",
    "    results = []\n",
    "    for prediction in predictions:\n",
    "        if prediction > threshold:\n",
    "            results.append(\"Spam\")\n",
    "        else:\n",
    "            results.append(\"Not spam\")\n",
    "    \n",
    "    return results\n"
   ]
  },
  {
   "cell_type": "code",
   "execution_count": 17,
   "metadata": {},
   "outputs": [
    {
     "name": "stdout",
     "output_type": "stream",
     "text": [
      "1/1 [==============================] - 0s 139ms/step\n",
      "Message: Your free ringtone is waiting to be collected. Simply text the password \"MIX\" to 85069 to verify. Get Usher and Britney. FML, PO Box 5249, MK17 92H. 450Ppw 16 haWatching telugu movie..wat abt u? \n",
      "The message is classified as: ['Spam']\n"
     ]
    }
   ],
   "source": [
    "# Take user input for prediction\n",
    "user_input =('Your free ringtone is waiting to be collected. Simply text the password \"MIX\" to 85069 to verify. Get Usher and Britney. FML, PO Box 5249, MK17 92H. 450Ppw 16 haWatching telugu movie..wat abt u?')\n",
    "prediction_result = predict_message(user_input)\n",
    "print(f\"Message: {user_input} \\nThe message is classified as: {prediction_result}\")"
   ]
  },
  {
   "cell_type": "code",
   "execution_count": 18,
   "metadata": {},
   "outputs": [
    {
     "name": "stdout",
     "output_type": "stream",
     "text": [
      "1/1 [==============================] - 0s 20ms/step\n",
      "Message: XXXMobileMovieClub: To use your credit, click the WAP link in the next txt message or click here>> http://wap. xxxmobilemovieclub.com?n=QJKGIGHJJGCBL \n",
      "The message is classified as: ['Spam']\n"
     ]
    }
   ],
   "source": [
    "\n",
    "user_input_1 = ('XXXMobileMovieClub: To use your credit, click the WAP link in the next txt message or click here>> http://wap. xxxmobilemovieclub.com?n=QJKGIGHJJGCBL')\n",
    "\n",
    "\n",
    "prediction_result_1 = predict_message(user_input_1)\n",
    "print(f\"Message: {user_input_1} \\nThe message is classified as: {prediction_result_1}\")\n",
    "    "
   ]
  },
  {
   "cell_type": "code",
   "execution_count": null,
   "metadata": {},
   "outputs": [],
   "source": []
  },
  {
   "cell_type": "code",
   "execution_count": null,
   "metadata": {},
   "outputs": [],
   "source": []
  },
  {
   "cell_type": "code",
   "execution_count": null,
   "metadata": {},
   "outputs": [],
   "source": []
  }
 ],
 "metadata": {
  "kernelspec": {
   "display_name": "DLENV",
   "language": "python",
   "name": "python3"
  },
  "language_info": {
   "codemirror_mode": {
    "name": "ipython",
    "version": 3
   },
   "file_extension": ".py",
   "mimetype": "text/x-python",
   "name": "python",
   "nbconvert_exporter": "python",
   "pygments_lexer": "ipython3",
   "version": "3.10.11"
  }
 },
 "nbformat": 4,
 "nbformat_minor": 2
}
