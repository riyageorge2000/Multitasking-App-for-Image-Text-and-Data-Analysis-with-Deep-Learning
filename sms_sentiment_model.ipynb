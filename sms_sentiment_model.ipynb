{
 "cells": [
  {
   "cell_type": "markdown",
   "metadata": {},
   "source": [
    "#### Movie sentiment model using glove embeddings"
   ]
  },
  {
   "cell_type": "code",
   "execution_count": 1,
   "metadata": {},
   "outputs": [],
   "source": [
    "import pandas as pd\n",
    "from numpy import asarray\n",
    "from numpy import zeros\n",
    "import seaborn as sns\n",
    "import matplotlib.pyplot as plt\n",
    "import tensorflow as tf\n",
    "from sklearn.model_selection import train_test_split\n",
    "from sklearn.metrics import classification_report, confusion_matrix, accuracy_score\n",
    "import pickle"
   ]
  },
  {
   "cell_type": "code",
   "execution_count": 2,
   "metadata": {},
   "outputs": [],
   "source": [
    "def getGloveEmbeddings(glovefolderpath):\n",
    "    print(\"---------------------- Getting Glove Embeddings -------------------------\\n\")\n",
    "    embeddings_dictionary = dict()\n",
    "    glove_file = open(f\"{glovefolderpath}\", encoding=\"utf8\")\n",
    "    for line in glove_file:\n",
    "        records = line.split()\n",
    "        word = records[0]\n",
    "        vector_dimensions = asarray(records[1:], dtype='float32')\n",
    "        embeddings_dictionary [word] = vector_dimensions\n",
    "    glove_file.close()\n",
    "    print(\"----------------------  -------------------------\\n\")\n",
    "    return embeddings_dictionary"
   ]
  },
  {
   "cell_type": "code",
   "execution_count": 3,
   "metadata": {},
   "outputs": [],
   "source": [
    "glove_folder=r'D:/STUDY/Sem3/deeplearning/glove.6B/glove.6B.50d.txt'\n",
    "maxlen = 50"
   ]
  },
  {
   "cell_type": "code",
   "execution_count": 4,
   "metadata": {},
   "outputs": [],
   "source": [
    "dataset =  pd.read_csv('SMSSpamCollection.txt',sep='\\t',names=['label','message'])"
   ]
  },
  {
   "cell_type": "code",
   "execution_count": 5,
   "metadata": {},
   "outputs": [],
   "source": [
    "dataset['label'] = dataset['label'].map( {'spam': 1, 'ham': 0} )\n",
    "X = dataset['message'].values\n",
    "y = dataset['label'].values"
   ]
  },
  {
   "cell_type": "code",
   "execution_count": 6,
   "metadata": {},
   "outputs": [],
   "source": [
    "X_train, X_test, y_train, y_test = train_test_split(X, y, test_size=0.3, random_state=42)"
   ]
  },
  {
   "cell_type": "code",
   "execution_count": 7,
   "metadata": {},
   "outputs": [],
   "source": [
    "tokeniser = tf.keras.preprocessing.text.Tokenizer()\n",
    "tokeniser.fit_on_texts(X_train)\n",
    "\n",
    "# Save the tokenizer using pickle\n",
    "with open('tokenizer_smsglove.pickle', 'wb') as handle:\n",
    "    pickle.dump(tokeniser, handle, protocol=pickle.HIGHEST_PROTOCOL)\n",
    "\n",
    "X_train = tokeniser.texts_to_sequences(X_train)\n",
    "X_test = tokeniser.texts_to_sequences(X_test)\n",
    "vocab_size = len(tokeniser.word_index) + 1\n",
    "X_train = tf.keras.preprocessing.sequence.pad_sequences(X_train, padding='post', maxlen=maxlen)\n",
    "X_test = tf.keras.preprocessing.sequence.pad_sequences(X_test, padding='post', maxlen=maxlen)"
   ]
  },
  {
   "cell_type": "code",
   "execution_count": 8,
   "metadata": {},
   "outputs": [
    {
     "name": "stdout",
     "output_type": "stream",
     "text": [
      "---------------------- Getting Glove Embeddings -------------------------\n",
      "\n",
      "----------------------  -------------------------\n",
      "\n"
     ]
    }
   ],
   "source": [
    "embeddings_dictionary=getGloveEmbeddings(glove_folder)\n",
    "embedding_matrix = zeros((vocab_size, maxlen))\n",
    "for word, index in tokeniser.word_index.items():\n",
    "    embedding_vector = embeddings_dictionary.get(word)\n",
    "    if embedding_vector is not None:\n",
    "        embedding_matrix[index] = embedding_vector"
   ]
  },
  {
   "cell_type": "code",
   "execution_count": 9,
   "metadata": {},
   "outputs": [],
   "source": [
    "model=tf.keras.models.Sequential([\n",
    "   tf.keras.layers.Embedding(input_dim=vocab_size,output_dim= maxlen, weights=[embedding_matrix], input_length=maxlen , trainable=False),\n",
    "   tf.keras.layers.LSTM(maxlen),\n",
    "   tf.keras.layers.Dense(1, activation='sigmoid')\n",
    "])  "
   ]
  },
  {
   "cell_type": "code",
   "execution_count": 10,
   "metadata": {},
   "outputs": [
    {
     "name": "stdout",
     "output_type": "stream",
     "text": [
      "Model: \"sequential\"\n",
      "_________________________________________________________________\n",
      " Layer (type)                Output Shape              Param #   \n",
      "=================================================================\n",
      " embedding (Embedding)       (None, 50, 50)            375100    \n",
      "                                                                 \n",
      " lstm (LSTM)                 (None, 50)                20200     \n",
      "                                                                 \n",
      " dense (Dense)               (None, 1)                 51        \n",
      "                                                                 \n",
      "=================================================================\n",
      "Total params: 395351 (1.51 MB)\n",
      "Trainable params: 20251 (79.11 KB)\n",
      "Non-trainable params: 375100 (1.43 MB)\n",
      "_________________________________________________________________\n",
      "None\n"
     ]
    }
   ],
   "source": [
    "print(model.summary())"
   ]
  },
  {
   "cell_type": "code",
   "execution_count": 11,
   "metadata": {},
   "outputs": [],
   "source": [
    "early_stop = tf.keras.callbacks.EarlyStopping(monitor='accuracy', mode='min', patience=10)"
   ]
  },
  {
   "cell_type": "code",
   "execution_count": 12,
   "metadata": {},
   "outputs": [],
   "source": [
    "model.compile(optimizer='adam', loss='binary_crossentropy', metrics=['accuracy'])"
   ]
  },
  {
   "cell_type": "code",
   "execution_count": 13,
   "metadata": {},
   "outputs": [
    {
     "name": "stdout",
     "output_type": "stream",
     "text": [
      "Epoch 1/50\n",
      "98/98 [==============================] - 4s 18ms/step - loss: 0.4303 - accuracy: 0.8673 - val_loss: 0.4185 - val_accuracy: 0.8538\n",
      "Epoch 2/50\n",
      "98/98 [==============================] - 1s 13ms/step - loss: 0.3880 - accuracy: 0.8689 - val_loss: 0.4169 - val_accuracy: 0.8538\n",
      "Epoch 3/50\n",
      "98/98 [==============================] - 1s 14ms/step - loss: 0.3129 - accuracy: 0.8862 - val_loss: 0.1761 - val_accuracy: 0.9372\n",
      "Epoch 4/50\n",
      "98/98 [==============================] - 1s 14ms/step - loss: 0.1514 - accuracy: 0.9513 - val_loss: 0.1382 - val_accuracy: 0.9564\n",
      "Epoch 5/50\n",
      "98/98 [==============================] - 2s 16ms/step - loss: 0.1234 - accuracy: 0.9635 - val_loss: 0.1296 - val_accuracy: 0.9538\n",
      "Epoch 6/50\n",
      "98/98 [==============================] - 2s 18ms/step - loss: 0.0930 - accuracy: 0.9692 - val_loss: 0.1117 - val_accuracy: 0.9628\n",
      "Epoch 7/50\n",
      "98/98 [==============================] - 2s 18ms/step - loss: 0.0841 - accuracy: 0.9744 - val_loss: 0.1448 - val_accuracy: 0.9577\n",
      "Epoch 8/50\n",
      "98/98 [==============================] - 2s 18ms/step - loss: 0.0759 - accuracy: 0.9760 - val_loss: 0.1073 - val_accuracy: 0.9654\n",
      "Epoch 9/50\n",
      "98/98 [==============================] - 2s 18ms/step - loss: 0.0616 - accuracy: 0.9817 - val_loss: 0.1053 - val_accuracy: 0.9679\n",
      "Epoch 10/50\n",
      "98/98 [==============================] - 2s 17ms/step - loss: 0.0524 - accuracy: 0.9843 - val_loss: 0.1141 - val_accuracy: 0.9679\n",
      "Epoch 11/50\n",
      "98/98 [==============================] - 1s 13ms/step - loss: 0.0556 - accuracy: 0.9824 - val_loss: 0.0961 - val_accuracy: 0.9718\n"
     ]
    }
   ],
   "source": [
    "history=model.fit(x=X_train,\n",
    "        y=y_train,\n",
    "        epochs=50,\n",
    "        callbacks=[early_stop],\n",
    "        validation_split=0.2\n",
    "         )"
   ]
  },
  {
   "cell_type": "code",
   "execution_count": 14,
   "metadata": {},
   "outputs": [],
   "source": [
    "def c_report(y_true, y_pred):\n",
    "   print(\"Classification Report\")\n",
    "   print(classification_report(y_true, y_pred))\n",
    "   acc_sc = accuracy_score(y_true, y_pred)\n",
    "   print(f\"Accuracy : {str(round(acc_sc,2)*100)}\")\n",
    "   return acc_sc\n",
    "def plot_confusion_matrix(y_true, y_pred):\n",
    "   mtx = confusion_matrix(y_true, y_pred)\n",
    "   sns.heatmap(mtx, annot=True, fmt='d', linewidths=.5, cmap=\"Blues\", cbar=False)\n",
    "   plt.ylabel('True label')\n",
    "   plt.xlabel('Predicted label')\n",
    "   plt.show()"
   ]
  },
  {
   "cell_type": "code",
   "execution_count": 15,
   "metadata": {},
   "outputs": [
    {
     "name": "stdout",
     "output_type": "stream",
     "text": [
      "53/53 [==============================] - 1s 5ms/step\n",
      "Classification Report\n",
      "              precision    recall  f1-score   support\n",
      "\n",
      "           0       0.98      0.99      0.99      1448\n",
      "           1       0.96      0.89      0.93       224\n",
      "\n",
      "    accuracy                           0.98      1672\n",
      "   macro avg       0.97      0.94      0.96      1672\n",
      "weighted avg       0.98      0.98      0.98      1672\n",
      "\n",
      "Accuracy : 98.0\n"
     ]
    },
    {
     "data": {
      "image/png": "[encoded data removed]",
      "text/plain": [
       "<Figure size 640x480 with 1 Axes>"
      ]
     },
     "metadata": {},
     "output_type": "display_data"
    }
   ],
   "source": [
    "preds = (model.predict(X_test) > 0.5).astype(\"int32\")\n",
    "c_report(y_test, preds)\n",
    "plot_confusion_matrix(y_test, preds)"
   ]
  },
  {
   "cell_type": "code",
   "execution_count": 16,
   "metadata": {},
   "outputs": [
    {
     "name": "stderr",
     "output_type": "stream",
     "text": [
      "d:\\STUDY\\Sem3\\deeplearning\\DLENV\\lib\\site-packages\\keras\\src\\engine\\training.py:3079: UserWarning: You are saving your model as an HDF5 file via `model.save()`. This file format is considered legacy. We recommend using instead the native Keras format, e.g. `model.save('my_model.keras')`.\n",
      "  saving_api.save_model(\n"
     ]
    }
   ],
   "source": [
    "# Save the model\n",
    "model.save('sms_sentiment_model.h5')"
   ]
  },
  {
   "cell_type": "code",
   "execution_count": 17,
   "metadata": {},
   "outputs": [],
   "source": [
    "sms_sentiment_model=tf.keras.models.load_model('sms_sentiment_model.h5')"
   ]
  },
  {
   "cell_type": "code",
   "execution_count": 18,
   "metadata": {},
   "outputs": [],
   "source": [
    "def predict_sms_sentiment(message):\n",
    "    sequence = tokeniser.texts_to_sequences([message])\n",
    "    sequence = tf.keras.preprocessing.sequence.pad_sequences(sequence, padding='post', maxlen=maxlen)\n",
    "    prediction = sms_sentiment_model.predict(sequence)[0, 0]\n",
    "    if prediction > 0.5:\n",
    "        return 'Spam'\n",
    "    else:\n",
    "        return 'Not spam'\n",
    "\n"
   ]
  },
  {
   "cell_type": "code",
   "execution_count": 19,
   "metadata": {},
   "outputs": [
    {
     "name": "stdout",
     "output_type": "stream",
     "text": [
      "1/1 [==============================] - 0s 373ms/step\n",
      "The message is classified as: Not spam\n"
     ]
    }
   ],
   "source": [
    "# Example usage:\n",
    "sample_message = \"Check out this amazing offer!\"\n",
    "result = predict_sms_sentiment(sample_message)\n",
    "print(f\"The message is classified as: {result}\")"
   ]
  },
  {
   "cell_type": "code",
   "execution_count": 20,
   "metadata": {},
   "outputs": [
    {
     "name": "stdout",
     "output_type": "stream",
     "text": [
      "1/1 [==============================] - 0s 22ms/step\n",
      "The message is classified as: Spam\n"
     ]
    }
   ],
   "source": [
    "# Example usage:\n",
    "sample_message = \"BangBabes Ur order is on the way. U SHOULD receive a Service Msg 2 download UR content. If U do not, GoTo wap. bangb. tv on UR mobile internet/service menu\"\n",
    "result = predict_sms_sentiment(sample_message)\n",
    "print(f\"The message is classified as: {result}\")"
   ]
  },
  {
   "cell_type": "code",
   "execution_count": null,
   "metadata": {},
   "outputs": [],
   "source": []
  }
 ],
 "metadata": {
  "kernelspec": {
   "display_name": "DLENV",
   "language": "python",
   "name": "python3"
  },
  "language_info": {
   "codemirror_mode": {
    "name": "ipython",
    "version": 3
   },
   "file_extension": ".py",
   "mimetype": "text/x-python",
   "name": "python",
   "nbconvert_exporter": "python",
   "pygments_lexer": "ipython3",
   "version": "3.10.11"
  }
 },
 "nbformat": 4,
 "nbformat_minor": 2
}
