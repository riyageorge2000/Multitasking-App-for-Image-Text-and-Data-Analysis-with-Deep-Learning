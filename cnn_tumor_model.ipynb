{
 "cells": [
  {
   "cell_type": "markdown",
   "metadata": {},
   "source": [
    "### TUMOR DETECTION USING CNN - MODEL BUILDING"
   ]
  },
  {
   "cell_type": "code",
   "execution_count": 1,
   "metadata": {},
   "outputs": [],
   "source": [
    "import numpy as np\n",
    "import matplotlib.pyplot as plt\n",
    "import cv2\n",
    "import os\n",
    "import tensorflow as tf\n",
    "from PIL import Image\n",
    "from sklearn.model_selection import train_test_split\n",
    "from sklearn.metrics import classification_report\n",
    "from tqdm import tqdm"
   ]
  },
  {
   "cell_type": "code",
   "execution_count": 2,
   "metadata": {},
   "outputs": [],
   "source": [
    "image_dir = r'D:\\STUDY\\Sem3\\deeplearning\\Multitasking_app\\tumordata'\n",
    "no_tumor_images = os.listdir(image_dir + '/no')\n",
    "yes_tumor_images = os.listdir(image_dir + '/yes')\n"
   ]
  },
  {
   "cell_type": "code",
   "execution_count": 3,
   "metadata": {},
   "outputs": [
    {
     "name": "stdout",
     "output_type": "stream",
     "text": [
      "The length of NO Tumor images is 1500\n",
      "The length of Tumor images is 1500\n"
     ]
    }
   ],
   "source": [
    "print('The length of NO Tumor images is',len(no_tumor_images))\n",
    "print('The length of Tumor images is',len(yes_tumor_images))"
   ]
  },
  {
   "cell_type": "code",
   "execution_count": 4,
   "metadata": {},
   "outputs": [
    {
     "name": "stderr",
     "output_type": "stream",
     "text": [
      "No Tumor: 1500it [00:21, 68.61it/s]\n",
      "Tumor: 1500it [00:22, 67.90it/s]\n"
     ]
    }
   ],
   "source": [
    "dataset=[]\n",
    "label=[]\n",
    "img_siz=(128,128)\n",
    "\n",
    "\n",
    "for i , image_name in tqdm(enumerate(no_tumor_images),desc=\"No Tumor\"):\n",
    "    if(image_name.split('.')[1]=='jpg'):\n",
    "        image=cv2.imread(image_dir+'/no/'+image_name)\n",
    "        image=Image.fromarray(image,'RGB')\n",
    "        image=image.resize(img_siz)\n",
    "        dataset.append(np.array(image))\n",
    "        label.append(0)\n",
    "        \n",
    "        \n",
    "for i ,image_name in tqdm(enumerate(yes_tumor_images),desc=\"Tumor\"):\n",
    "    if(image_name.split('.')[1]=='jpg'):\n",
    "        image=cv2.imread(image_dir+'/yes/'+image_name)\n",
    "        image=Image.fromarray(image,'RGB')\n",
    "        image=image.resize(img_siz)\n",
    "        dataset.append(np.array(image))\n",
    "        label.append(1)\n",
    "        \n",
    "        \n",
    "dataset=np.array(dataset)\n",
    "label = np.array(label)"
   ]
  },
  {
   "cell_type": "code",
   "execution_count": 5,
   "metadata": {},
   "outputs": [
    {
     "name": "stdout",
     "output_type": "stream",
     "text": [
      "Dataset Length:  3000\n",
      "Label Length:  3000\n"
     ]
    }
   ],
   "source": [
    "print('Dataset Length: ',len(dataset))\n",
    "print('Label Length: ',len(label))"
   ]
  },
  {
   "cell_type": "code",
   "execution_count": 6,
   "metadata": {},
   "outputs": [
    {
     "name": "stdout",
     "output_type": "stream",
     "text": [
      "Train-Test Split\n",
      "Normalising the Dataset.\n",
      "\n"
     ]
    }
   ],
   "source": [
    "# Training the model\n",
    "print(\"Train-Test Split\")\n",
    "x_train, x_test, y_train, y_test = train_test_split(dataset, label, test_size=0.2, random_state=42)\n",
    "\n",
    "# Normalizing the dataset\n",
    "print(\"Normalising the Dataset.\\n\")\n",
    "x_train = tf.keras.utils.normalize(x_train, axis=1)\n",
    "x_test = tf.keras.utils.normalize(x_test, axis=1)"
   ]
  },
  {
   "cell_type": "code",
   "execution_count": 7,
   "metadata": {},
   "outputs": [
    {
     "name": "stdout",
     "output_type": "stream",
     "text": [
      "Model: \"sequential\"\n",
      "_________________________________________________________________\n",
      " Layer (type)                Output Shape              Param #   \n",
      "=================================================================\n",
      " conv2d (Conv2D)             (None, 126, 126, 32)      896       \n",
      "                                                                 \n",
      " max_pooling2d (MaxPooling2  (None, 63, 63, 32)        0         \n",
      " D)                                                              \n",
      "                                                                 \n",
      " flatten (Flatten)           (None, 127008)            0         \n",
      "                                                                 \n",
      " dense (Dense)               (None, 256)               32514304  \n",
      "                                                                 \n",
      " dropout (Dropout)           (None, 256)               0         \n",
      "                                                                 \n",
      " dense_1 (Dense)             (None, 512)               131584    \n",
      "                                                                 \n",
      " dense_2 (Dense)             (None, 1)                 513       \n",
      "                                                                 \n",
      "=================================================================\n",
      "Total params: 32647297 (124.54 MB)\n",
      "Trainable params: 32647297 (124.54 MB)\n",
      "Non-trainable params: 0 (0.00 Byte)\n",
      "_________________________________________________________________\n"
     ]
    }
   ],
   "source": [
    "# Define the model\n",
    "model = tf.keras.models.Sequential([\n",
    "    tf.keras.layers.Conv2D(32, (3, 3), activation='relu', input_shape=(128, 128, 3)),\n",
    "    tf.keras.layers.MaxPooling2D((2, 2)),\n",
    "    tf.keras.layers.Flatten(),\n",
    "    tf.keras.layers.Dense(256, activation='relu'),\n",
    "    tf.keras.layers.Dropout(0.5),\n",
    "    tf.keras.layers.Dense(512, activation='relu'),\n",
    "    tf.keras.layers.Dense(1, activation='sigmoid')\n",
    "])\n",
    "model.summary()"
   ]
  },
  {
   "cell_type": "code",
   "execution_count": 8,
   "metadata": {},
   "outputs": [
    {
     "name": "stdout",
     "output_type": "stream",
     "text": [
      "Training Started.\n",
      "\n",
      "Epoch 1/5\n",
      "17/17 [==============================] - 19s 1s/step - loss: 0.7715 - accuracy: 0.6310 - val_loss: 0.5245 - val_accuracy: 0.7458\n",
      "Epoch 2/5\n",
      "17/17 [==============================] - 17s 999ms/step - loss: 0.4956 - accuracy: 0.7745 - val_loss: 0.4522 - val_accuracy: 0.7750\n",
      "Epoch 3/5\n",
      "17/17 [==============================] - 16s 964ms/step - loss: 0.3770 - accuracy: 0.8394 - val_loss: 0.3363 - val_accuracy: 0.8625\n",
      "Epoch 4/5\n",
      "17/17 [==============================] - 17s 988ms/step - loss: 0.2672 - accuracy: 0.8894 - val_loss: 0.3017 - val_accuracy: 0.8750\n",
      "Epoch 5/5\n",
      "17/17 [==============================] - 16s 960ms/step - loss: 0.1681 - accuracy: 0.9398 - val_loss: 0.1631 - val_accuracy: 0.9417\n",
      "Training Finished.\n",
      "\n"
     ]
    },
    {
     "name": "stderr",
     "output_type": "stream",
     "text": [
      "d:\\STUDY\\Sem3\\deeplearning\\DLENV\\lib\\site-packages\\keras\\src\\engine\\training.py:3079: UserWarning: You are saving your model as an HDF5 file via `model.save()`. This file format is considered legacy. We recommend using instead the native Keras format, e.g. `model.save('my_model.keras')`.\n",
      "  saving_api.save_model(\n"
     ]
    },
    {
     "name": "stdout",
     "output_type": "stream",
     "text": [
      "Model Saved.\n",
      "\n"
     ]
    }
   ],
   "source": [
    "# Compile the model\n",
    "model.compile(optimizer='adam',\n",
    "              loss='binary_crossentropy',\n",
    "              metrics=['accuracy'])\n",
    "\n",
    "# Train the model\n",
    "print(\"Training Started.\\n\")\n",
    "history = model.fit(x_train, y_train, epochs=5, batch_size=128, validation_split=0.1)\n",
    "print(\"Training Finished.\\n\")\n",
    "\n",
    "# Save the trained model\n",
    "model.save('cnn_tumor_model.h5')\n",
    "print(\"Model Saved.\\n\")"
   ]
  },
  {
   "cell_type": "code",
   "execution_count": 9,
   "metadata": {},
   "outputs": [
    {
     "data": {
      "image/png": "[encoded data removed]",
      "text/plain": [
       "<Figure size 640x480 with 1 Axes>"
      ]
     },
     "metadata": {},
     "output_type": "display_data"
    }
   ],
   "source": [
    "# Plot and save accuracy\n",
    "plt.plot(history.epoch,history.history['accuracy'], label='accuracy')\n",
    "plt.plot(history.epoch,history.history['val_accuracy'], label = 'val_accuracy')\n",
    "plt.xlabel('Epoch')\n",
    "plt.ylabel('Accuracy')\n",
    "plt.ylim([0, 1])\n",
    "plt.legend(loc='lower right')\n",
    "plt.show()"
   ]
  },
  {
   "cell_type": "code",
   "execution_count": 10,
   "metadata": {},
   "outputs": [
    {
     "data": {
      "image/png": "[encoded data removed]",
      "text/plain": [
       "<Figure size 640x480 with 1 Axes>"
      ]
     },
     "metadata": {},
     "output_type": "display_data"
    }
   ],
   "source": [
    "# Plot and save loss\n",
    "plt.plot(history.epoch,history.history['loss'], label='loss')\n",
    "plt.plot(history.epoch,history.history['val_loss'], label = 'val_loss')\n",
    "plt.xlabel('Epoch')\n",
    "plt.ylabel('Loss')\n",
    "plt.legend(loc='upper right')\n",
    "plt.show()"
   ]
  },
  {
   "cell_type": "code",
   "execution_count": 11,
   "metadata": {},
   "outputs": [
    {
     "name": "stdout",
     "output_type": "stream",
     "text": [
      "Model Evalutaion Phase.\n",
      "\n",
      "19/19 [==============================] - 1s 54ms/step - loss: 0.1471 - accuracy: 0.9483\n",
      "Accuracy: 94.83\n",
      "19/19 [==============================] - 1s 50ms/step\n",
      "classification Report\n",
      "               precision    recall  f1-score   support\n",
      "\n",
      "           0       0.96      0.94      0.95       313\n",
      "           1       0.94      0.96      0.95       287\n",
      "\n",
      "    accuracy                           0.95       600\n",
      "   macro avg       0.95      0.95      0.95       600\n",
      "weighted avg       0.95      0.95      0.95       600\n",
      "\n"
     ]
    }
   ],
   "source": [
    "# Model evaluation\n",
    "print(\"Model Evalutaion Phase.\\n\")\n",
    "loss,accuracy=model.evaluate(x_test,y_test)\n",
    "print(f'Accuracy: {round(accuracy*100,2)}')\n",
    "y_pred=model.predict(x_test)\n",
    "y_pred = (y_pred > 0.5).astype(int)\n",
    "print('classification Report\\n',classification_report(y_test,y_pred))"
   ]
  },
  {
   "cell_type": "code",
   "execution_count": 12,
   "metadata": {},
   "outputs": [
    {
     "name": "stdout",
     "output_type": "stream",
     "text": [
      "Model Prediction.\n",
      "\n"
     ]
    }
   ],
   "source": [
    "# Model prediction function\n",
    "print(\"Model Prediction.\\n\")\n",
    "\n",
    "def make_prediction(img,model):\n",
    "    img=cv2.imread(img)\n",
    "    img=Image.fromarray(img)\n",
    "    img=img.resize((128,128))\n",
    "    img=np.array(img)\n",
    "    input_img = np.expand_dims(img, axis=0)\n",
    "    res = model.predict(input_img)\n",
    "    if res:\n",
    "        print(\"Tumor Detected\")\n",
    "    else:\n",
    "        print(\"No Tumor\")\n",
    "    "
   ]
  },
  {
   "cell_type": "code",
   "execution_count": 13,
   "metadata": {},
   "outputs": [
    {
     "name": "stdout",
     "output_type": "stream",
     "text": [
      "1/1 [==============================] - 0s 65ms/step\n",
      "Tumor Detected\n",
      "--------------------------------------\n",
      "\n",
      "1/1 [==============================] - 0s 33ms/step\n",
      "No Tumor\n",
      "--------------------------------------\n",
      "\n"
     ]
    }
   ],
   "source": [
    "\n",
    "\n",
    "make_prediction(r'D:\\STUDY\\Sem3\\deeplearning\\Multitasking_app\\tumordata\\yes\\y6.jpg',model)\n",
    "print(\"--------------------------------------\\n\")\n",
    "make_prediction(r'D:\\STUDY\\Sem3\\deeplearning\\Multitasking_app\\tumordata\\no\\no1.jpg',model)\n",
    "print(\"--------------------------------------\\n\")"
   ]
  },
  {
   "cell_type": "code",
   "execution_count": 14,
   "metadata": {},
   "outputs": [],
   "source": [
    "# Load the saved model in your Streamlit app using this code\n",
    "from tensorflow.keras.models import load_model\n",
    "\n",
    "loaded_model = load_model('cnn_tumor_model.h5')\n"
   ]
  },
  {
   "cell_type": "code",
   "execution_count": null,
   "metadata": {},
   "outputs": [],
   "source": []
  }
 ],
 "metadata": {
  "kernelspec": {
   "display_name": "DLENV",
   "language": "python",
   "name": "python3"
  },
  "language_info": {
   "codemirror_mode": {
    "name": "ipython",
    "version": 3
   },
   "file_extension": ".py",
   "mimetype": "text/x-python",
   "name": "python",
   "nbconvert_exporter": "python",
   "pygments_lexer": "ipython3",
   "version": "3.10.11"
  }
 },
 "nbformat": 4,
 "nbformat_minor": 2
}
