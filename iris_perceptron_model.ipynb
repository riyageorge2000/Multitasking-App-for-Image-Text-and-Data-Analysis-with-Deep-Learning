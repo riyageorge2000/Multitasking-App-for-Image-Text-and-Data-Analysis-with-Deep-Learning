{
 "cells": [
  {
   "cell_type": "markdown",
   "metadata": {},
   "source": [
    "#### Iris perceptron model"
   ]
  },
  {
   "cell_type": "code",
   "execution_count": 1,
   "metadata": {},
   "outputs": [],
   "source": [
    "from sklearn.datasets import load_iris\n",
    "from sklearn.model_selection import train_test_split\n",
    "import numpy as np\n",
    "from Perceptron import  Perceptron\n",
    "from sklearn.metrics import accuracy_score\n",
    "from sklearn.metrics import classification_report\n",
    "import pickle"
   ]
  },
  {
   "cell_type": "code",
   "execution_count": 2,
   "metadata": {},
   "outputs": [],
   "source": [
    "iris = load_iris() \n",
    "X = iris.data[:, (0, 1)] \n",
    "y = (iris.target == 0).astype(int) #setosa"
   ]
  },
  {
   "cell_type": "code",
   "execution_count": 3,
   "metadata": {},
   "outputs": [
    {
     "name": "stderr",
     "output_type": "stream",
     "text": [
      "100%|██████████| 30/30 [00:00<00:00, 4273.65it/s]"
     ]
    },
    {
     "name": "stdout",
     "output_type": "stream",
     "text": [
      "Training Completed\n"
     ]
    },
    {
     "name": "stderr",
     "output_type": "stream",
     "text": [
      "\n"
     ]
    }
   ],
   "source": [
    "X_train, X_test, y_train, y_test = train_test_split(X, y, test_size=0.3, random_state=42)\n",
    "perceptron = Perceptron(epochs=30)\n",
    "\n",
    "perceptron.fit(X_train, y_train)"
   ]
  },
  {
   "cell_type": "code",
   "execution_count": 4,
   "metadata": {},
   "outputs": [],
   "source": [
    "# Save the instance of the Perceptron class\n",
    "with open('iris_perceptron_model.pkl', 'wb') as file:\n",
    "    pickle.dump(perceptron, file)\n",
    "\n",
    "# Load the saved instance of the Perceptron class\n",
    "with open('iris_perceptron_model.pkl', 'rb') as file:\n",
    "    loaded_perceptron = pickle.load(file)"
   ]
  },
  {
   "cell_type": "code",
   "execution_count": 5,
   "metadata": {},
   "outputs": [
    {
     "name": "stdout",
     "output_type": "stream",
     "text": [
      "Accuracy: 0.4222222222222222\n",
      "              precision    recall  f1-score   support\n",
      "\n",
      "           0       0.00      0.00      0.00         0\n",
      "           1       1.00      0.42      0.59        45\n",
      "\n",
      "    accuracy                           0.42        45\n",
      "   macro avg       0.50      0.21      0.30        45\n",
      "weighted avg       1.00      0.42      0.59        45\n",
      "\n",
      "Predictions: [1, 1, 1, 1, 1, 1, 1, 1, 1, 1, 1, 1, 1, 1, 1, 1, 1, 1, 1, 1, 1, 1, 1, 1, 1, 1, 1, 1, 1, 1, 1, 1, 1, 1, 1, 1, 1, 1, 1, 1, 1, 1, 1, 1, 1]\n"
     ]
    },
    {
     "name": "stderr",
     "output_type": "stream",
     "text": [
      "d:\\STUDY\\Sem3\\deeplearning\\DLENV\\lib\\site-packages\\sklearn\\metrics\\_classification.py:1471: UndefinedMetricWarning: Recall and F-score are ill-defined and being set to 0.0 in labels with no true samples. Use `zero_division` parameter to control this behavior.\n",
      "  _warn_prf(average, modifier, msg_start, len(result))\n",
      "d:\\STUDY\\Sem3\\deeplearning\\DLENV\\lib\\site-packages\\sklearn\\metrics\\_classification.py:1471: UndefinedMetricWarning: Recall and F-score are ill-defined and being set to 0.0 in labels with no true samples. Use `zero_division` parameter to control this behavior.\n",
      "  _warn_prf(average, modifier, msg_start, len(result))\n",
      "d:\\STUDY\\Sem3\\deeplearning\\DLENV\\lib\\site-packages\\sklearn\\metrics\\_classification.py:1471: UndefinedMetricWarning: Recall and F-score are ill-defined and being set to 0.0 in labels with no true samples. Use `zero_division` parameter to control this behavior.\n",
      "  _warn_prf(average, modifier, msg_start, len(result))\n"
     ]
    }
   ],
   "source": [
    "# Use the loaded model for predictions\n",
    "pred = loaded_perceptron.predict(X_test)\n",
    "print(f\"Accuracy: {accuracy_score(pred, y_test)}\")\n",
    "report = classification_report(pred, y_test, digits=2)\n",
    "print(report)\n",
    "print(f\"Predictions: {pred}\")"
   ]
  },
  {
   "cell_type": "code",
   "execution_count": 6,
   "metadata": {},
   "outputs": [],
   "source": [
    "with open('iris_perceptron_model.pkl', 'rb') as file:\n",
    "    loaded_perceptron = pickle.load(file)\n",
    "\n",
    "def predict_iris_species(sepal_length, sepal_width):\n",
    "\n",
    "    # Make predictions based on the given sepal and petal dimensions\n",
    "    features = np.array([[sepal_length, sepal_width]])\n",
    "    prediction = loaded_perceptron.predict(features)\n",
    "\n",
    "    # Map prediction to class label\n",
    "    classes = {0: 'Setosa', 1: 'Not Setosa'}\n",
    "    predicted_class = classes[prediction[0]]\n",
    "\n",
    "    return predicted_class\n",
    "\n"
   ]
  },
  {
   "cell_type": "code",
   "execution_count": 7,
   "metadata": {},
   "outputs": [
    {
     "name": "stdout",
     "output_type": "stream",
     "text": [
      "The predicted class is: Not Setosa\n"
     ]
    }
   ],
   "source": [
    "sepal_length = 5.1\n",
    "sepal_width = 3.5\n",
    "\n",
    "predicted_iris_species = predict_iris_species(sepal_length, sepal_width)\n",
    "print(f\"The predicted class is: {predicted_iris_species}\")"
   ]
  },
  {
   "cell_type": "code",
   "execution_count": null,
   "metadata": {},
   "outputs": [],
   "source": []
  }
 ],
 "metadata": {
  "kernelspec": {
   "display_name": "DLENV",
   "language": "python",
   "name": "python3"
  },
  "language_info": {
   "codemirror_mode": {
    "name": "ipython",
    "version": 3
   },
   "file_extension": ".py",
   "mimetype": "text/x-python",
   "name": "python",
   "nbconvert_exporter": "python",
   "pygments_lexer": "ipython3",
   "version": "3.10.11"
  }
 },
 "nbformat": 4,
 "nbformat_minor": 2
}
