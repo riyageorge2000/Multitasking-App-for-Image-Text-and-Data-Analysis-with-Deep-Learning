{
 "cells": [
  {
   "cell_type": "markdown",
   "metadata": {},
   "source": [
    "### CNN for MNIST Handwritten Digit Classification"
   ]
  },
  {
   "cell_type": "code",
   "execution_count": 22,
   "metadata": {},
   "outputs": [],
   "source": [
    "import tensorflow as tf\n",
    "from numpy import argmax\n",
    "import pandas as pd\n",
    "import matplotlib.pyplot as plt\n",
    "from PIL import Image\n",
    "import numpy as np"
   ]
  },
  {
   "cell_type": "code",
   "execution_count": 2,
   "metadata": {},
   "outputs": [],
   "source": [
    "(train_x, y_train), (test_x, y_test) = tf.keras.datasets.mnist.load_data()"
   ]
  },
  {
   "cell_type": "code",
   "execution_count": 3,
   "metadata": {},
   "outputs": [
    {
     "name": "stdout",
     "output_type": "stream",
     "text": [
      "Size of training Data Loaded:\n",
      "\n",
      "Train: X=(60000, 28, 28), y=(60000,)\n",
      "Test: X=(10000, 28, 28), y=(10000,)\n"
     ]
    }
   ],
   "source": [
    "print(\"Size of training Data Loaded:\\n\")\n",
    "print('Train: X=%s, y=%s' % (train_x.shape, y_train.shape))\n",
    "print('Test: X=%s, y=%s' % (test_x.shape, y_test.shape))"
   ]
  },
  {
   "cell_type": "code",
   "execution_count": 4,
   "metadata": {},
   "outputs": [],
   "source": [
    "train_x = train_x.reshape((train_x.shape[0], train_x.shape[1], train_x.shape[2], 1))\n",
    "test_x = test_x .reshape((test_x.shape[0], test_x.shape[1], test_x.shape[2], 1))"
   ]
  },
  {
   "cell_type": "code",
   "execution_count": 5,
   "metadata": {},
   "outputs": [
    {
     "name": "stdout",
     "output_type": "stream",
     "text": [
      "--------------------------------------\n",
      "\n",
      "Size of training Data Reshaped:\n",
      "\n",
      "Train: X=(60000, 28, 28, 1), y=(60000,)\n",
      "Test: X=(10000, 28, 28, 1), y=(10000,)\n"
     ]
    }
   ],
   "source": [
    "#printing the shapes \n",
    "print(\"--------------------------------------\\n\")\n",
    "print(\"Size of training Data Reshaped:\\n\")\n",
    "print('Train: X=%s, y=%s' % (train_x.shape, y_train.shape))\n",
    "print('Test: X=%s, y=%s' % (test_x.shape, y_test.shape))"
   ]
  },
  {
   "cell_type": "code",
   "execution_count": 6,
   "metadata": {},
   "outputs": [
    {
     "name": "stdout",
     "output_type": "stream",
     "text": [
      "Normalaising the Dataset. \n",
      "\n"
     ]
    }
   ],
   "source": [
    "print(\"Normalaising the Dataset. \\n\")\n",
    "\n",
    "train_x = train_x.astype('float')/255\n",
    "test_x = test_x.astype('float')/255\n",
    "shape = train_x.shape[1:]"
   ]
  },
  {
   "cell_type": "code",
   "execution_count": 7,
   "metadata": {},
   "outputs": [
    {
     "name": "stdout",
     "output_type": "stream",
     "text": [
      "CNN Model Creation \n",
      "\n"
     ]
    }
   ],
   "source": [
    "print(\"CNN Model Creation \\n\")\n",
    "\n",
    "model = tf.keras.Sequential()\n",
    "\n",
    "model.add(tf.keras.layers.Conv2D(32, (3,3), activation='relu', input_shape= shape))\n",
    "model.add(tf.keras.layers.MaxPool2D((2,2)))\n",
    "\n",
    "model.add(tf.keras.layers.Conv2D(48, (3,3), activation='relu'))\n",
    "model.add(tf.keras.layers.MaxPool2D((2,2)))\n",
    "\n",
    "model.add(tf.keras.layers.Dropout(0.5))\n",
    "model.add(tf.keras.layers.Flatten())\n",
    "\n",
    "model.add(tf.keras.layers.Dense(512, activation='relu'))\n",
    "model.add(tf.keras.layers.Dense(128, activation='relu'))\n",
    "model.add(tf.keras.layers.Dense(10, activation='softmax'))"
   ]
  },
  {
   "cell_type": "code",
   "execution_count": 8,
   "metadata": {},
   "outputs": [
    {
     "name": "stdout",
     "output_type": "stream",
     "text": [
      "Model: \"sequential\"\n",
      "_________________________________________________________________\n",
      " Layer (type)                Output Shape              Param #   \n",
      "=================================================================\n",
      " conv2d (Conv2D)             (None, 26, 26, 32)        320       \n",
      "                                                                 \n",
      " max_pooling2d (MaxPooling2  (None, 13, 13, 32)        0         \n",
      " D)                                                              \n",
      "                                                                 \n",
      " conv2d_1 (Conv2D)           (None, 11, 11, 48)        13872     \n",
      "                                                                 \n",
      " max_pooling2d_1 (MaxPoolin  (None, 5, 5, 48)          0         \n",
      " g2D)                                                            \n",
      "                                                                 \n",
      " dropout (Dropout)           (None, 5, 5, 48)          0         \n",
      "                                                                 \n",
      " flatten (Flatten)           (None, 1200)              0         \n",
      "                                                                 \n",
      " dense (Dense)               (None, 512)               614912    \n",
      "                                                                 \n",
      " dense_1 (Dense)             (None, 128)               65664     \n",
      "                                                                 \n",
      " dense_2 (Dense)             (None, 10)                1290      \n",
      "                                                                 \n",
      "=================================================================\n",
      "Total params: 696058 (2.66 MB)\n",
      "Trainable params: 696058 (2.66 MB)\n",
      "Non-trainable params: 0 (0.00 Byte)\n",
      "_________________________________________________________________\n"
     ]
    }
   ],
   "source": [
    "model.summary()"
   ]
  },
  {
   "cell_type": "code",
   "execution_count": 9,
   "metadata": {},
   "outputs": [
    {
     "name": "stdout",
     "output_type": "stream",
     "text": [
      "Training Started.\n",
      "\n",
      "Epoch 1/5\n",
      "375/375 [==============================] - 20s 49ms/step - loss: 0.2720 - accuracy: 0.9141 - val_loss: 0.0713 - val_accuracy: 0.9795\n",
      "Epoch 2/5\n",
      "375/375 [==============================] - 18s 49ms/step - loss: 0.0849 - accuracy: 0.9735 - val_loss: 0.0435 - val_accuracy: 0.9867\n",
      "Epoch 3/5\n",
      "375/375 [==============================] - 18s 48ms/step - loss: 0.0605 - accuracy: 0.9812 - val_loss: 0.0411 - val_accuracy: 0.9883\n",
      "Epoch 4/5\n",
      "375/375 [==============================] - 18s 49ms/step - loss: 0.0500 - accuracy: 0.9839 - val_loss: 0.0375 - val_accuracy: 0.9890\n",
      "Epoch 5/5\n",
      "375/375 [==============================] - 17s 47ms/step - loss: 0.0423 - accuracy: 0.9860 - val_loss: 0.0325 - val_accuracy: 0.9902\n",
      "Training Finished.\n",
      "\n"
     ]
    }
   ],
   "source": [
    "model.compile(optimizer='adam',\n",
    "              loss = 'sparse_categorical_crossentropy',\n",
    "              metrics= ['accuracy'])\n",
    "\n",
    "print(\"Training Started.\\n\")\n",
    "history = model.fit(train_x, y_train, epochs=5, batch_size = 128, validation_split = 0.2)\n",
    "print(\"Training Finished.\\n\")"
   ]
  },
  {
   "cell_type": "code",
   "execution_count": 10,
   "metadata": {},
   "outputs": [
    {
     "data": {
      "image/png": "[encoded data removed]",
      "text/plain": [
       "<Figure size 640x480 with 1 Axes>"
      ]
     },
     "metadata": {},
     "output_type": "display_data"
    }
   ],
   "source": [
    "# Plot and save accuracy\n",
    "plt.plot(history.history['accuracy'], label='accuracy')\n",
    "plt.plot(history.history['val_accuracy'], label = 'val_accuracy')\n",
    "plt.xlabel('Epoch')\n",
    "plt.ylabel('Accuracy')\n",
    "plt.ylim([0, 1])\n",
    "plt.legend(loc='lower right')\n",
    "plt.show()"
   ]
  },
  {
   "cell_type": "code",
   "execution_count": 11,
   "metadata": {},
   "outputs": [
    {
     "data": {
      "image/png": "[encoded data removed]",
      "text/plain": [
       "<Figure size 640x480 with 1 Axes>"
      ]
     },
     "metadata": {},
     "output_type": "display_data"
    }
   ],
   "source": [
    "# Plot and save loss\n",
    "plt.plot(history.history['loss'], label='loss')\n",
    "plt.plot(history.history['val_loss'], label = 'val_loss')\n",
    "plt.xlabel('Epoch')\n",
    "plt.ylabel('Loss')\n",
    "plt.legend(loc='upper right')\n",
    "plt.show()"
   ]
  },
  {
   "cell_type": "code",
   "execution_count": 12,
   "metadata": {},
   "outputs": [
    {
     "name": "stdout",
     "output_type": "stream",
     "text": [
      "Model Evalutaion Phase.\n",
      "\n",
      "313/313 [==============================] - 1s 3ms/step - loss: 0.0270 - accuracy: 0.9921\n",
      "Accuracy: 99.21\n"
     ]
    }
   ],
   "source": [
    "print(\"Model Evalutaion Phase.\\n\")\n",
    "loss,accuracy= model.evaluate(test_x, y_test)\n",
    "print(f'Accuracy: {round(accuracy*100,2)}')"
   ]
  },
  {
   "cell_type": "code",
   "execution_count": 13,
   "metadata": {},
   "outputs": [
    {
     "name": "stdout",
     "output_type": "stream",
     "text": [
      "Model saved successfully.\n"
     ]
    },
    {
     "name": "stderr",
     "output_type": "stream",
     "text": [
      "d:\\STUDY\\Sem3\\deeplearning\\DLENV\\lib\\site-packages\\keras\\src\\engine\\training.py:3079: UserWarning: You are saving your model as an HDF5 file via `model.save()`. This file format is considered legacy. We recommend using instead the native Keras format, e.g. `model.save('my_model.keras')`.\n",
      "  saving_api.save_model(\n"
     ]
    }
   ],
   "source": [
    "# Save the model\n",
    "model.save('mnist_cnn_model.h5')\n",
    "print(\"Model saved successfully.\")"
   ]
  },
  {
   "cell_type": "code",
   "execution_count": 23,
   "metadata": {},
   "outputs": [],
   "source": [
    "# Load the saved model\n",
    "mnist_model = tf.keras.models.load_model('mnist_cnn_model.h5')\n",
    "\n",
    "def predict_digit(file_path):\n",
    "    # Load the image using PIL\n",
    "    image = Image.open(file_path)\n",
    "    \n",
    "    # Convert the image to grayscale\n",
    "    image = image.convert('L')\n",
    "    \n",
    "    # Resize the image to 28x28 (same as MNIST dataset)\n",
    "    image = image.resize((28, 28))\n",
    "    \n",
    "    # Convert image to array\n",
    "    image_array = np.array(image)\n",
    "    \n",
    "    # Reshape and normalize the image (similar to training data)\n",
    "    processed_image = image_array.reshape((1, 28, 28, 1))\n",
    "    processed_image = processed_image.astype('float32') / 255.0\n",
    "    \n",
    "    # Make predictions using the loaded model\n",
    "    prediction = mnist_model.predict(processed_image)\n",
    "    predicted_class = np.argmax(prediction)\n",
    "    \n",
    "    return predicted_class\n",
    "\n"
   ]
  },
  {
   "cell_type": "code",
   "execution_count": 29,
   "metadata": {},
   "outputs": [
    {
     "name": "stdout",
     "output_type": "stream",
     "text": [
      "1/1 [==============================] - 0s 37ms/step\n",
      "Predicted digit: 4\n"
     ]
    }
   ],
   "source": [
    "# Example usage for prediction\n",
    "file_path = r'D:\\STUDY\\Sem3\\deeplearning\\Multitasking_app\\mnistdata\\4d5aaad749292d65343b4a642c01f4e0c9f0d15c.png'\n",
    "predicted_digit = predict_digit(file_path)\n",
    "print(f\"Predicted digit: {predicted_digit}\")"
   ]
  },
  {
   "cell_type": "code",
   "execution_count": null,
   "metadata": {},
   "outputs": [],
   "source": []
  }
 ],
 "metadata": {
  "kernelspec": {
   "display_name": "DLENV",
   "language": "python",
   "name": "python3"
  },
  "language_info": {
   "codemirror_mode": {
    "name": "ipython",
    "version": 3
   },
   "file_extension": ".py",
   "mimetype": "text/x-python",
   "name": "python",
   "nbconvert_exporter": "python",
   "pygments_lexer": "ipython3",
   "version": "3.10.11"
  }
 },
 "nbformat": 4,
 "nbformat_minor": 2
}
