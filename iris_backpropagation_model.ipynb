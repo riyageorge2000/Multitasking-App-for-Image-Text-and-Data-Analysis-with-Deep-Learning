{
 "cells": [
  {
   "cell_type": "markdown",
   "metadata": {},
   "source": [
    "#### Iris backpropagation model"
   ]
  },
  {
   "cell_type": "code",
   "execution_count": 1,
   "metadata": {},
   "outputs": [],
   "source": [
    "from sklearn.datasets import load_iris\n",
    "from sklearn.model_selection import train_test_split\n",
    "import numpy as np\n",
    "from BackPropogation import  BackPropogation\n",
    "from sklearn.metrics import accuracy_score\n",
    "from sklearn.metrics import classification_report\n",
    "import joblib"
   ]
  },
  {
   "cell_type": "code",
   "execution_count": 2,
   "metadata": {},
   "outputs": [],
   "source": [
    "iris = load_iris() \n",
    "X = iris.data[:, (0, 1)] \n",
    "y = (iris.target == 0).astype(int)"
   ]
  },
  {
   "cell_type": "code",
   "execution_count": 3,
   "metadata": {},
   "outputs": [],
   "source": [
    "X_train, X_test, y_train, y_test = train_test_split(X, y, test_size=0.5, random_state=42)\n",
    "backprop = BackPropogation(epochs=25,activation_function='step')"
   ]
  },
  {
   "cell_type": "code",
   "execution_count": 4,
   "metadata": {},
   "outputs": [
    {
     "name": "stderr",
     "output_type": "stream",
     "text": [
      "100%|██████████| 25/25 [00:00<00:00, 1230.74it/s]"
     ]
    },
    {
     "name": "stdout",
     "output_type": "stream",
     "text": [
      "Updated Weights after epoch 0 with [-0.097  0.121]\n",
      "Updated Weights after epoch 1 with [-0.164  0.212]\n",
      "Updated Weights after epoch 2 with [-0.146  0.31 ]\n",
      "Updated Weights after epoch 3 with [-0.22  0.32]\n",
      "Updated Weights after epoch 4 with [-0.222  0.348]\n",
      "Updated Weights after epoch 5 with [-0.235  0.356]\n",
      "Updated Weights after epoch 6 with [-0.248  0.364]\n",
      "Updated Weights after epoch 7 with [-0.249  0.389]\n",
      "Updated Weights after epoch 8 with [-0.262  0.397]\n",
      "Updated Weights after epoch 9 with [-0.278  0.399]\n",
      "Updated Weights after epoch 10 with [-0.264  0.423]\n",
      "Updated Weights after epoch 11 with [-0.277  0.431]\n",
      "Updated Weights after epoch 12 with [-0.29   0.435]\n",
      "Updated Weights after epoch 13 with [-0.262  0.457]\n",
      "Updated Weights after epoch 14 with [-0.287  0.454]\n",
      "Updated Weights after epoch 15 with [-0.301  0.458]\n",
      "Updated Weights after epoch 16 with [-0.312  0.456]\n",
      "Updated Weights after epoch 17 with [-0.298  0.479]\n",
      "Updated Weights after epoch 18 with [-0.308  0.476]\n",
      "Updated Weights after epoch 19 with [-0.324  0.478]\n",
      "Updated Weights after epoch 20 with [-0.288  0.501]\n",
      "Updated Weights after epoch 21 with [-0.313  0.498]\n",
      "Updated Weights after epoch 22 with [-0.327  0.502]\n",
      "Updated Weights after epoch 23 with [-0.338  0.5  ]\n",
      "Updated Weights after epoch 24 with [-0.303  0.522]\n",
      "Training Completed\n"
     ]
    },
    {
     "name": "stderr",
     "output_type": "stream",
     "text": [
      "\n"
     ]
    }
   ],
   "source": [
    "backprop.fit(X_train, y_train)"
   ]
  },
  {
   "cell_type": "code",
   "execution_count": 5,
   "metadata": {},
   "outputs": [],
   "source": [
    "# Save the model to a file\n",
    "joblib.dump(backprop, 'iris_backprop_model.pkl')\n",
    "\n",
    "# Load the model from the file\n",
    "loaded_backprop = joblib.load('iris_backprop_model.pkl')"
   ]
  },
  {
   "cell_type": "code",
   "execution_count": 6,
   "metadata": {},
   "outputs": [
    {
     "name": "stdout",
     "output_type": "stream",
     "text": [
      "Accuracy: 0.9866666666666667\n",
      "              precision    recall  f1-score   support\n",
      "\n",
      "           0       0.98      1.00      0.99        45\n",
      "           1       1.00      0.97      0.98        30\n",
      "\n",
      "    accuracy                           0.99        75\n",
      "   macro avg       0.99      0.98      0.99        75\n",
      "weighted avg       0.99      0.99      0.99        75\n",
      "\n",
      "Predictions: [0, 1, 0, 0, 0, 1, 0, 0, 0, 0, 0, 1, 1, 1, 1, 0, 0, 0, 0, 0, 1, 0, 1, 0, 0, 0, 0, 0, 1, 1, 1, 1, 0, 1, 1, 0, 0, 1, 1, 1, 0, 1, 0, 1, 1, 0, 0, 0, 0, 0, 0, 0, 0, 1, 0, 0, 1, 1, 1, 0, 0, 1, 1, 1, 0, 1, 0, 0, 1, 0, 0, 1, 0, 0, 0]\n"
     ]
    }
   ],
   "source": [
    "# Use the loaded model for predictions\n",
    "pred = loaded_backprop.predict(X_test)\n",
    "print(f\"Accuracy: {accuracy_score(pred, y_test)}\")\n",
    "report = classification_report(pred, y_test, digits=2)\n",
    "print(report)\n",
    "print(f\"Predictions: {pred}\")"
   ]
  },
  {
   "cell_type": "code",
   "execution_count": 7,
   "metadata": {},
   "outputs": [],
   "source": [
    "def predict_iris_backprop_species(sepal_length, sepal_width):\n",
    "    # Load the trained Perceptron model\n",
    "    loaded_backprop = joblib.load('iris_backprop_model.pkl')\n",
    "\n",
    "    # Make predictions based on the given sepal and petal dimensions\n",
    "    features = np.array([[sepal_length, sepal_width]])\n",
    "    prediction = loaded_backprop.predict(features)\n",
    "\n",
    "    # Map prediction to class label\n",
    "    classes = {0: 'Setosa', 1: 'Not Setosa'}\n",
    "    predicted_class = classes[prediction[0]]\n",
    "\n",
    "    return predicted_class"
   ]
  },
  {
   "cell_type": "code",
   "execution_count": 9,
   "metadata": {},
   "outputs": [
    {
     "name": "stdout",
     "output_type": "stream",
     "text": [
      "The predicted class is: Setosa\n"
     ]
    }
   ],
   "source": [
    "sepal_length = 5.1\n",
    "sepal_width = 2.5\n",
    "\n",
    "predicted_iris_species = predict_iris_backprop_species(sepal_length, sepal_width)\n",
    "print(f\"The predicted class is: {predicted_iris_species}\")"
   ]
  },
  {
   "cell_type": "code",
   "execution_count": null,
   "metadata": {},
   "outputs": [],
   "source": []
  }
 ],
 "metadata": {
  "kernelspec": {
   "display_name": "DLENV",
   "language": "python",
   "name": "python3"
  },
  "language_info": {
   "codemirror_mode": {
    "name": "ipython",
    "version": 3
   },
   "file_extension": ".py",
   "mimetype": "text/x-python",
   "name": "python",
   "nbconvert_exporter": "python",
   "pygments_lexer": "ipython3",
   "version": "3.10.11"
  }
 },
 "nbformat": 4,
 "nbformat_minor": 2
}
